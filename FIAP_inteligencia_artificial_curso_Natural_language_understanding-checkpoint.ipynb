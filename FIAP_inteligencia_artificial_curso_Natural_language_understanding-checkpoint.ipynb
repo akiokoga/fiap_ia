{
 "cells": [
  {
   "cell_type": "code",
   "execution_count": 10,
   "metadata": {
    "scrolled": true
   },
   "outputs": [
    {
     "name": "stdout",
     "output_type": "stream",
     "text": [
      "Collecting ibm-watson>=5.1.0\n",
      "  Downloading ibm-watson-5.1.0.tar.gz (382 kB)\n",
      "Requirement already satisfied, skipping upgrade: requests<3.0,>=2.0 in c:\\users\\henrique\\anaconda3\\lib\\site-packages (from ibm-watson>=5.1.0) (2.24.0)\n",
      "Requirement already satisfied, skipping upgrade: python_dateutil>=2.5.3 in c:\\users\\henrique\\anaconda3\\lib\\site-packages (from ibm-watson>=5.1.0) (2.8.1)\n",
      "Requirement already satisfied, skipping upgrade: websocket-client==0.48.0 in c:\\users\\henrique\\anaconda3\\lib\\site-packages (from ibm-watson>=5.1.0) (0.48.0)\n",
      "Collecting ibm_cloud_sdk_core>=3.3.6\n",
      "  Downloading ibm-cloud-sdk-core-3.5.2.tar.gz (35 kB)\n",
      "Requirement already satisfied, skipping upgrade: idna<3,>=2.5 in c:\\users\\henrique\\anaconda3\\lib\\site-packages (from requests<3.0,>=2.0->ibm-watson>=5.1.0) (2.10)\n",
      "Requirement already satisfied, skipping upgrade: urllib3!=1.25.0,!=1.25.1,<1.26,>=1.21.1 in c:\\users\\henrique\\anaconda3\\lib\\site-packages (from requests<3.0,>=2.0->ibm-watson>=5.1.0) (1.25.9)\n",
      "Requirement already satisfied, skipping upgrade: certifi>=2017.4.17 in c:\\users\\henrique\\appdata\\roaming\\python\\python38\\site-packages (from requests<3.0,>=2.0->ibm-watson>=5.1.0) (2020.6.20)\n",
      "Requirement already satisfied, skipping upgrade: chardet<4,>=3.0.2 in c:\\users\\henrique\\anaconda3\\lib\\site-packages (from requests<3.0,>=2.0->ibm-watson>=5.1.0) (3.0.4)\n",
      "Requirement already satisfied, skipping upgrade: six>=1.5 in c:\\users\\henrique\\anaconda3\\lib\\site-packages (from python_dateutil>=2.5.3->ibm-watson>=5.1.0) (1.15.0)\n",
      "Collecting PyJWT<3.0.0,>=2.0.1\n",
      "  Downloading PyJWT-2.0.1-py3-none-any.whl (15 kB)\n",
      "Building wheels for collected packages: ibm-watson, ibm-cloud-sdk-core\n",
      "  Building wheel for ibm-watson (setup.py): started\n",
      "  Building wheel for ibm-watson (setup.py): finished with status 'done'\n",
      "  Created wheel for ibm-watson: filename=ibm_watson-5.1.0-py3-none-any.whl size=375447 sha256=55d567dd7b45c1c36f407cd9b6e693605538ce41385abf66e984405941e9ccb3\n",
      "  Stored in directory: c:\\users\\henrique\\appdata\\local\\pip\\cache\\wheels\\e6\\e5\\cf\\9e0c46ec51165c2a61af7f2d4fdd91df9c96071bb51264c828\n",
      "  Building wheel for ibm-cloud-sdk-core (setup.py): started\n",
      "  Building wheel for ibm-cloud-sdk-core (setup.py): finished with status 'done'\n",
      "  Created wheel for ibm-cloud-sdk-core: filename=ibm_cloud_sdk_core-3.5.2-py3-none-any.whl size=56743 sha256=fa57c74599fa8df9511b684dcca732bd7b3d8c803d8a6b6eb4da8d8fc94cbea2\n",
      "  Stored in directory: c:\\users\\henrique\\appdata\\local\\pip\\cache\\wheels\\7f\\27\\91\\b68025368f9e27ad146cd31313b11b0c4f60efdfde645dad7e\n",
      "Successfully built ibm-watson ibm-cloud-sdk-core\n",
      "Installing collected packages: PyJWT, ibm-cloud-sdk-core, ibm-watson\n",
      "Successfully installed PyJWT-2.0.1 ibm-cloud-sdk-core-3.5.2 ibm-watson-5.1.0\n",
      "Note: you may need to restart the kernel to use updated packages.\n"
     ]
    }
   ],
   "source": [
    "pip install --upgrade \"ibm-watson>=5.1.0\""
   ]
  },
  {
   "cell_type": "code",
   "execution_count": 14,
   "metadata": {},
   "outputs": [],
   "source": [
    "import json\n",
    "from watson_developer_cloud import NaturalLanguageUnderstandingV1\n",
    "from watson_developer_cloud.natural_language_understanding_v1 import Features, ConceptsOptions, RelationsOptions, EmotionOptions, EntitiesOptions, SemanticRolesOptions, SentimentOptions\n",
    "from ibm_cloud_sdk_core.authenticators import IAMAuthenticator"
   ]
  },
  {
   "cell_type": "code",
   "execution_count": 36,
   "metadata": {
    "scrolled": true
   },
   "outputs": [
    {
     "name": "stdout",
     "output_type": "stream",
     "text": [
      "ok\n"
     ]
    }
   ],
   "source": [
    "import json\n",
    "from ibm_watson import NaturalLanguageUnderstandingV1\n",
    "from ibm_cloud_sdk_core.authenticators import IAMAuthenticator\n",
    "from ibm_watson.natural_language_understanding_v1 import Features, ConceptsOptions, RelationsOptions, EmotionOptions, EntitiesOptions, SemanticRolesOptions, SentimentOptions\n",
    "\n",
    "authenticator = IAMAuthenticator('jXEu6P5C-K8RO1z6hNlyEMGP1EabF46Nsyameqot8qmL')\n",
    "natural_language_understanding = NaturalLanguageUnderstandingV1(\n",
    "    version='2021-03-03',\n",
    "    authenticator=authenticator\n",
    ")\n",
    "\n",
    "natural_language_understanding.set_service_url('https://api.us-south.natural-language-understanding.watson.cloud.ibm.com/instances/f015b8a1-0bb4-41f8-97be-fa48e1547f26')\n",
    "print('ok')"
   ]
  },
  {
   "cell_type": "code",
   "execution_count": 54,
   "metadata": {},
   "outputs": [
    {
     "name": "stdout",
     "output_type": "stream",
     "text": [
      "{\n",
      "  \"usage\": {\n",
      "    \"text_units\": 1,\n",
      "    \"text_characters\": 31,\n",
      "    \"features\": 4\n",
      "  },\n",
      "  \"sentiment\": {\n",
      "    \"document\": {\n",
      "      \"score\": 0,\n",
      "      \"label\": \"neutral\"\n",
      "    }\n",
      "  },\n",
      "  \"language\": \"en\",\n",
      "  \"entities\": [\n",
      "    {\n",
      "      \"type\": \"JobTitle\",\n",
      "      \"text\": \"president\",\n",
      "      \"relevance\": 0.963296,\n",
      "      \"count\": 1,\n",
      "      \"confidence\": 0.884051\n",
      "    },\n",
      "    {\n",
      "      \"type\": \"Location\",\n",
      "      \"text\": \"Brazil\",\n",
      "      \"relevance\": 0.356384,\n",
      "      \"count\": 1,\n",
      "      \"confidence\": 0.819219\n",
      "    }\n",
      "  ],\n",
      "  \"emotion\": {\n",
      "    \"document\": {\n",
      "      \"emotion\": {\n",
      "        \"sadness\": 0.117418,\n",
      "        \"joy\": 0.151672,\n",
      "        \"fear\": 0.047087,\n",
      "        \"disgust\": 0.198362,\n",
      "        \"anger\": 0.149442\n",
      "      }\n",
      "    }\n",
      "  },\n",
      "  \"concepts\": [\n",
      "    {\n",
      "      \"text\": \"President\",\n",
      "      \"relevance\": 0.886784,\n",
      "      \"dbpedia_resource\": \"http://dbpedia.org/resource/President\"\n",
      "    },\n",
      "    {\n",
      "      \"text\": \"President of the United States\",\n",
      "      \"relevance\": 0.862208,\n",
      "      \"dbpedia_resource\": \"http://dbpedia.org/resource/President_of_the_United_States\"\n",
      "    },\n",
      "    {\n",
      "      \"text\": \"Politics of Brazil\",\n",
      "      \"relevance\": 0.845824,\n",
      "      \"dbpedia_resource\": \"http://dbpedia.org/resource/Politics_of_Brazil\"\n",
      "    }\n",
      "  ]\n",
      "}\n"
     ]
    }
   ],
   "source": [
    "response = natural_language_understanding.analyze(\n",
    "  text='Who is the president of Brazil?',\n",
    "  features=Features(\n",
    "    concepts=ConceptsOptions(),\n",
    "    emotion=EmotionOptions(),\n",
    "    entities=EntitiesOptions(),\n",
    "    sentiment=SentimentOptions(),\n",
    "    )).get_result()\n",
    "\n",
    "print(json.dumps(response, indent=2))"
   ]
  },
  {
   "cell_type": "code",
   "execution_count": 59,
   "metadata": {},
   "outputs": [
    {
     "name": "stdout",
     "output_type": "stream",
     "text": [
      "{\n",
      "  \"usage\": {\n",
      "    \"text_units\": 1,\n",
      "    \"text_characters\": 34,\n",
      "    \"features\": 2\n",
      "  },\n",
      "  \"semantic_roles\": [\n",
      "    {\n",
      "      \"subject\": {\n",
      "        \"text\": \"Steve Jobs\"\n",
      "      },\n",
      "      \"sentence\": \"Steve Jobs is the founder of Apple\",\n",
      "      \"object\": {\n",
      "        \"text\": \"the founder of Apple\"\n",
      "      },\n",
      "      \"action\": {\n",
      "        \"verb\": {\n",
      "          \"text\": \"be\",\n",
      "          \"tense\": \"present\"\n",
      "        },\n",
      "        \"text\": \"is\",\n",
      "        \"normalized\": \"be\"\n",
      "      }\n",
      "    }\n",
      "  ],\n",
      "  \"language\": \"en\",\n",
      "  \"entities\": [\n",
      "    {\n",
      "      \"type\": \"Person\",\n",
      "      \"text\": \"Steve Jobs\",\n",
      "      \"relevance\": 0.963296,\n",
      "      \"disambiguation\": {\n",
      "        \"subtype\": [\n",
      "          \"BoardMember\",\n",
      "          \"CompanyFounder\",\n",
      "          \"ComputerDesigner\",\n",
      "          \"FilmProducer\"\n",
      "        ],\n",
      "        \"name\": \"Steve_Jobs\",\n",
      "        \"dbpedia_resource\": \"http://dbpedia.org/resource/Steve_Jobs\"\n",
      "      },\n",
      "      \"count\": 1,\n",
      "      \"confidence\": 0.509195\n",
      "    },\n",
      "    {\n",
      "      \"type\": \"Organization\",\n",
      "      \"text\": \"Apple\",\n",
      "      \"relevance\": 0.049035,\n",
      "      \"count\": 1,\n",
      "      \"confidence\": 0.748457\n",
      "    }\n",
      "  ]\n",
      "}\n"
     ]
    }
   ],
   "source": [
    "response = natural_language_understanding.analyze(\n",
    "  text='Steve Jobs is the founder of Apple',\n",
    "  features=Features(\n",
    "    entities=EntitiesOptions(),\n",
    "    semantic_roles=SemanticRolesOptions(),\n",
    "    )).get_result()\n",
    "\n",
    "print(json.dumps(response, indent=2))"
   ]
  },
  {
   "cell_type": "code",
   "execution_count": 56,
   "metadata": {},
   "outputs": [
    {
     "name": "stdout",
     "output_type": "stream",
     "text": [
      "{\n",
      "  \"usage\": {\n",
      "    \"text_units\": 1,\n",
      "    \"text_characters\": 39,\n",
      "    \"features\": 4\n",
      "  },\n",
      "  \"sentiment\": {\n",
      "    \"document\": {\n",
      "      \"score\": 0.75298,\n",
      "      \"label\": \"positive\"\n",
      "    }\n",
      "  },\n",
      "  \"relations\": [],\n",
      "  \"language\": \"pt\",\n",
      "  \"entities\": [\n",
      "    {\n",
      "      \"type\": \"Organization\",\n",
      "      \"text\": \"FIAP\",\n",
      "      \"relevance\": 0.978348,\n",
      "      \"count\": 1,\n",
      "      \"confidence\": 0.879578\n",
      "    }\n",
      "  ],\n",
      "  \"concepts\": [],\n",
      "  \"warnings\": [\n",
      "    \"emotion: unsupported text language: pt\",\n",
      "    \"semantic_roles: unsupported text language: pt\"\n",
      "  ]\n",
      "}\n"
     ]
    }
   ],
   "source": [
    "response = natural_language_understanding.analyze(\n",
    "  text='Na FIAP, os alunos são muito dedicados.',\n",
    "  features=Features(\n",
    "    relations=RelationsOptions(),\n",
    "    concepts=ConceptsOptions(),\n",
    "    emotion=EmotionOptions(),\n",
    "    entities=EntitiesOptions(),\n",
    "    semantic_roles=SemanticRolesOptions(),\n",
    "    sentiment=SentimentOptions(),\n",
    "    )).get_result()\n",
    "\n",
    "print(json.dumps(response, indent=2))"
   ]
  },
  {
   "cell_type": "code",
   "execution_count": 58,
   "metadata": {},
   "outputs": [
    {
     "name": "stdout",
     "output_type": "stream",
     "text": [
      "{\n",
      "  \"usage\": {\n",
      "    \"text_units\": 1,\n",
      "    \"text_characters\": 47,\n",
      "    \"features\": 6\n",
      "  },\n",
      "  \"sentiment\": {\n",
      "    \"document\": {\n",
      "      \"score\": -0.92878,\n",
      "      \"label\": \"negative\"\n",
      "    }\n",
      "  },\n",
      "  \"semantic_roles\": [\n",
      "    {\n",
      "      \"subject\": {\n",
      "        \"text\": \"I\"\n",
      "      },\n",
      "      \"sentence\": \"I am so tired of this, so anger with everything\",\n",
      "      \"object\": {\n",
      "        \"text\": \"so tired of this\"\n",
      "      },\n",
      "      \"action\": {\n",
      "        \"verb\": {\n",
      "          \"text\": \"be\",\n",
      "          \"tense\": \"present\"\n",
      "        },\n",
      "        \"text\": \"am\",\n",
      "        \"normalized\": \"be\"\n",
      "      }\n",
      "    }\n",
      "  ],\n",
      "  \"relations\": [],\n",
      "  \"language\": \"en\",\n",
      "  \"entities\": [],\n",
      "  \"emotion\": {\n",
      "    \"document\": {\n",
      "      \"emotion\": {\n",
      "        \"sadness\": 0.430277,\n",
      "        \"joy\": 0.01426,\n",
      "        \"fear\": 0.128015,\n",
      "        \"disgust\": 0.052176,\n",
      "        \"anger\": 0.670671\n",
      "      }\n",
      "    }\n",
      "  },\n",
      "  \"concepts\": []\n",
      "}\n"
     ]
    }
   ],
   "source": [
    "response = natural_language_understanding.analyze(\n",
    "  text='I am so tired of this, so anger with everything',\n",
    "  features=Features(\n",
    "    relations=RelationsOptions(),\n",
    "    concepts=ConceptsOptions(),\n",
    "    emotion=EmotionOptions(),\n",
    "    entities=EntitiesOptions(),\n",
    "    semantic_roles=SemanticRolesOptions(),\n",
    "    sentiment=SentimentOptions(),\n",
    "    )).get_result()\n",
    "\n",
    "print(json.dumps(response, indent=2))"
   ]
  },
  {
   "cell_type": "code",
   "execution_count": null,
   "metadata": {},
   "outputs": [],
   "source": []
  }
 ],
 "metadata": {
  "kernelspec": {
   "display_name": "Python 3",
   "language": "python",
   "name": "python3"
  },
  "language_info": {
   "codemirror_mode": {
    "name": "ipython",
    "version": 3
   },
   "file_extension": ".py",
   "mimetype": "text/x-python",
   "name": "python",
   "nbconvert_exporter": "python",
   "pygments_lexer": "ipython3",
   "version": "3.8.3"
  }
 },
 "nbformat": 4,
 "nbformat_minor": 4
}
